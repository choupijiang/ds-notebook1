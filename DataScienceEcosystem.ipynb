{
 "cells": [
  {
   "cell_type": "markdown",
   "id": "eb4cde6b-fc33-43f4-bf0f-745a9d94bbce",
   "metadata": {},
   "source": [
    "# Data Science Tools and Ecosystem \n",
    "\n",
    "\n",
    "In this notebook, Data Science Tools and Ecosystem are summarized.\n",
    "\n",
    "In this course, it covered a lot of data science tool , there are data management tools, Data integrate tools, \n",
    "data visualization tools , code asset management , data/model asset management and so on . \n"
   ]
  },
  {
   "cell_type": "markdown",
   "id": "71536736-f8ae-4a66-85b7-7f7aa2f69098",
   "metadata": {},
   "source": [
    "**Objectives:**\n",
    "*  know popular languages for Data Science  (Python, Java, Scala, R) \n",
    "*  Know Data Management Tools (Relation Databse, NoSQL , BigData)\n",
    "*  know pololar library used in data science (pandas,  ggplot, scikit-learn, Seaborn)\n",
    "*  Know code asset management (such as git, gitlab)"
   ]
  },
  {
   "cell_type": "markdown",
   "id": "8d49261f-b860-4b1c-b48f-5d258d857059",
   "metadata": {},
   "source": [
    "\n",
    "Some of the popular languages that Data Scientists use are: \n",
    "1. Python\n",
    "2. R \n",
    "3. Scala\n",
    "4. Java\n",
    "\n",
    "\n",
    "Some of the commonly used libraries used by Data Scientists include:\n",
    "* pandas\n",
    "* Matplotlib\n",
    "* scikit-learn\n",
    "\n",
    "\n",
    "|Data Science Tools|\n",
    "|------|\n",
    "|Jupyter Notebooks |\n",
    "|Rstudio|\n",
    "|VS Code|\n",
    "\n"
   ]
  },
  {
   "cell_type": "markdown",
   "id": "bf977d68-fb55-4ffb-8883-f43ddbdce599",
   "metadata": {},
   "source": [
    "### Below are a few examples of evaluating arithmetic expressions in Python\n"
   ]
  },
  {
   "cell_type": "code",
   "execution_count": 4,
   "id": "44ab8aa1-0063-4b17-8139-ad0bd1f80ce7",
   "metadata": {},
   "outputs": [
    {
     "data": {
      "text/plain": [
       "17"
      ]
     },
     "execution_count": 4,
     "metadata": {},
     "output_type": "execute_result"
    }
   ],
   "source": [
    "(3*4)+5"
   ]
  },
  {
   "cell_type": "code",
   "execution_count": 8,
   "id": "589e98fa-dbc5-4631-8134-5452472e5b7f",
   "metadata": {},
   "outputs": [
    {
     "name": "stdout",
     "output_type": "stream",
     "text": [
      "3.3333333333333335\n"
     ]
    }
   ],
   "source": [
    "### This will convert 200 minutes to hours by diving by 60\n",
    "minutes = 200\n",
    "hours = minutes / 60\n",
    "print(hours)"
   ]
  },
  {
   "cell_type": "markdown",
   "id": "d3532c1b-8d46-4e35-9b33-9921812f60c7",
   "metadata": {},
   "source": [
    "## Author\n",
    "\n",
    "shenghu.zhang"
   ]
  },
  {
   "cell_type": "code",
   "execution_count": null,
   "id": "d300e08c-467a-4fa7-80e8-63d8dce34882",
   "metadata": {},
   "outputs": [],
   "source": []
  }
 ],
 "metadata": {
  "kernelspec": {
   "display_name": "Python 3 (ipykernel)",
   "language": "python",
   "name": "python3"
  },
  "language_info": {
   "codemirror_mode": {
    "name": "ipython",
    "version": 3
   },
   "file_extension": ".py",
   "mimetype": "text/x-python",
   "name": "python",
   "nbconvert_exporter": "python",
   "pygments_lexer": "ipython3",
   "version": "3.10.14"
  }
 },
 "nbformat": 4,
 "nbformat_minor": 5
}
